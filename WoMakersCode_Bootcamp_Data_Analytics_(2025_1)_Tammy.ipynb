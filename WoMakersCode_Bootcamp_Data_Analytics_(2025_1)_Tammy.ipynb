{
  "cells": [
    {
      "cell_type": "markdown",
      "metadata": {
        "id": "view-in-github",
        "colab_type": "text"
      },
      "source": [
        "<a href=\"https://colab.research.google.com/github/TmTeixeira/Workshop_Womakerscode_2025/blob/main/WoMakersCode_Bootcamp_Data_Analytics_(2025_1)_Tammy.ipynb\" target=\"_parent\"><img src=\"https://colab.research.google.com/assets/colab-badge.svg\" alt=\"Open In Colab\"/></a>"
      ]
    },
    {
      "cell_type": "markdown",
      "metadata": {
        "id": "fZu819fMQNKI"
      },
      "source": [
        "DESAFIO 1\n",
        "\n",
        "Crie um programa que solicita ao usuário que insira três notas (valores de 0 a 10) e, em seguida, calcule e exiba a média dessas notas.\n",
        "\n",
        "Além disso, informe ao usuário se ele foi aprovado ou reprovado com base na média das notas, considerando a média mínima de aprovação como 6."
      ]
    },
    {
      "cell_type": "code",
      "execution_count": null,
      "metadata": {
        "id": "tjM2VWBwQSJE",
        "colab": {
          "base_uri": "https://localhost:8080/"
        },
        "outputId": "c281c3d1-5bbe-436e-d7fc-bc3e8caae6aa"
      },
      "outputs": [
        {
          "output_type": "stream",
          "name": "stdout",
          "text": [
            "Digite sua primeira nota: 6\n",
            "Digite sua segunda nota: 8\n",
            "Digite sua terceira nota:7\n",
            "Parabéns! Você foi aprovado.\n"
          ]
        }
      ],
      "source": [
        "#Solicitando ao usuario que insira suas 3 notas, com input\n",
        "while True:\n",
        "    nota1 = float(input(\"Digite sua primeira nota: \"))\n",
        "    nota2 = float(input(\"Digite sua segunda nota: \"))\n",
        "    nota3 = float(input(\"Digite sua terceira nota:\"))\n",
        "\n",
        "#Calculando a media das notas do usuário\n",
        "    media = (nota1 + nota2 + nota3) / 3\n",
        "\n",
        "#Determino a condição: se a média das notas for maior ou igual a 6, aprovado. Caso contrário, reprovado.\n",
        "    if media >= 6:\n",
        "        print(\"Parabéns! Você foi aprovado.\")\n",
        "    else:\n",
        "        print(\"Infelizmente, você foi reprovado.\")\n",
        "    break\n",
        "\n"
      ]
    },
    {
      "cell_type": "markdown",
      "metadata": {
        "id": "_m8mBod2g9Iv"
      },
      "source": [
        "DESAFIO 2\n",
        "\n",
        "Escreva um programa que receba uma string e conte quantas vogais (a, e, i, o, u) ela contém."
      ]
    },
    {
      "cell_type": "code",
      "execution_count": null,
      "metadata": {
        "id": "G3MkSdjIfMay",
        "colab": {
          "base_uri": "https://localhost:8080/"
        },
        "outputId": "5ff20c12-03d2-4cb2-8d9a-af431be83bb4"
      },
      "outputs": [
        {
          "output_type": "stream",
          "name": "stdout",
          "text": [
            "A quantidade total de vogais é: 5\n"
          ]
        }
      ],
      "source": [
        "#Criando uma lista de vogais\n",
        "vogais = ['a', 'e', 'i', 'o', 'u']\n",
        "\n",
        "#fazendo a soma das vogais usando len\n",
        "sum=len(vogais)\n",
        "print(f\"A quantidade total de vogais é: {sum}\")"
      ]
    },
    {
      "cell_type": "markdown",
      "metadata": {
        "id": "azEJl_Q6cFFz"
      },
      "source": [
        "DESAFIO 3\n",
        "\n",
        "Escreva um programa em que o computador escolhe um número aleatório entre 1 e 100 e o usuário tenta adivinhar. O programa deve informar se o palpite é muito alto, muito baixo ou correto."
      ]
    },
    {
      "cell_type": "code",
      "execution_count": null,
      "metadata": {
        "colab": {
          "base_uri": "https://localhost:8080/"
        },
        "id": "4kz8g_Z5qGB1",
        "outputId": "471aa707-ab83-4c99-d311-95bb68170868"
      },
      "outputs": [
        {
          "output_type": "stream",
          "name": "stdout",
          "text": [
            "Número aleatório entre 1 e 100: 41\n"
          ]
        }
      ],
      "source": [
        "#importando modulo padrao python, para numeros aleatorios\n",
        "import random\n",
        "\n",
        "numero_aleatorio = random.randint(1, 100)\n",
        "print(f\"Número aleatório entre 1 e 100: {numero_aleatorio}\")\n",
        "\n",
        "\n"
      ]
    },
    {
      "cell_type": "code",
      "execution_count": null,
      "metadata": {
        "colab": {
          "base_uri": "https://localhost:8080/"
        },
        "id": "fIawxc9SGcIP",
        "outputId": "5a5da6fd-ae32-471d-cf76-e67c60a9f43e"
      },
      "outputs": [
        {
          "output_type": "stream",
          "name": "stdout",
          "text": [
            "Digite seu palpite: 41\n",
            "Parabéns! Você acertou o número aleatório.\n"
          ]
        }
      ],
      "source": [
        "#Pedindo ao usuario para adivinhar o numero aleatório usando input\n",
        "palpite = float(input(\"Digite seu palpite: \"))\n",
        "\n",
        "#Criando uma condição para informar ao usuário se o palpite é muito alto, muito ou se está correto com if e elif.\n",
        "\n",
        "if palpite > numero_aleatorio:\n",
        "    print(\"Seu palpite está muito alto.\")\n",
        "\n",
        "elif palpite < numero_aleatorio:\n",
        "    print(\"Seu palpite está muito baixo.\")\n",
        "\n",
        "elif palpite == numero_aleatorio:\n",
        "    print(\"Parabéns! Você acertou o número aleatório.\")\n"
      ]
    },
    {
      "cell_type": "markdown",
      "metadata": {
        "id": "qk4Gw-GAqFjY"
      },
      "source": [
        "DESAFIO 4\n",
        "\n",
        "Crie um programa que permita ao usuário gerenciar suas tarefas diárias. O programa deve oferecer as seguintes funcionalidades:\n",
        "\n",
        "Adicionar uma nova tarefa;\n",
        "\n",
        "Visualizar todas as tarefas;\n",
        "\n",
        "Remover uma tarefa;\n",
        "\n",
        "Sair do programa.\n",
        "\n",
        "(Você pode implementar essas funcionalidades usando listas para armazenar as tarefas e estruturas de controle como loops e condicionais para interagir com o usuário.)"
      ]
    },
    {
      "cell_type": "code",
      "execution_count": null,
      "metadata": {
        "id": "VELViJ-mJ2O2",
        "colab": {
          "base_uri": "https://localhost:8080/"
        },
        "outputId": "4c8249ee-91c9-471b-b10a-2288aeb73c99"
      },
      "outputs": [
        {
          "output_type": "stream",
          "name": "stdout",
          "text": [
            "Digite sua nova tarefa: trabalho extra\n",
            "Nova tarefa 'trabalho extra' adicionada com sucesso!\n",
            "Deseja adicionar mais tarefas? S/N: s\n",
            "Digite sua nova tarefa: academia\n",
            "Nova tarefa 'academia' adicionada com sucesso!\n",
            "Deseja adicionar mais tarefas? S/N: s\n",
            "Digite sua nova tarefa: faculdade\n",
            "Nova tarefa 'faculdade' adicionada com sucesso!\n",
            "Deseja adicionar mais tarefas? S/N: n\n",
            "Programa encerrado.\n"
          ]
        }
      ],
      "source": [
        "# Inicializando a lista de lista tarefas\n",
        "tarefas = []\n",
        "\n",
        "while True: #usando loop para que o usuario possa colocar novas tarefas quantas vezes desejar, interagindo com as condiçôes abaixo.\n",
        "  nova_tarefa= str(input(\"Digite sua nova tarefa: \")).strip()\n",
        "  tarefas.append(nova_tarefa) #usando append para adicionar um item a minha lista de tarefas\n",
        "  print(f\"Nova tarefa '{nova_tarefa}' adicionada com sucesso!\")\n",
        "\n",
        "  continuar=str(input(\"Deseja adicionar mais tarefas? S/N: \")).strip().upper()[0] #sprit para remover espaços em branco e upper para ignorar diferença de maiusulo e minusculo\n",
        "  if continuar == \"N\": #criando a condição: Se o usuário digitar N (não), eu paro exibindo o print abaixo.\n",
        "    print(\"Programa encerrado.\")\n",
        "    break\n",
        "  elif continuar == \"S\": #se o usuário digitar S (sim), eu printo a mensagem para digitar uma nova tarefa e trago o input\n",
        "    continue\n",
        "  else:\n",
        "    print(\"Digite uma opção válida.\") #caso o usuário escreva qualquer informação que não corresponda as condições acima, printo para digitar uma opção válida e continuo.\n",
        "    continue\n"
      ]
    },
    {
      "cell_type": "code",
      "execution_count": null,
      "metadata": {
        "id": "y5ldb8rwKvjm"
      },
      "outputs": [],
      "source": [
        "# Função para visualizar as tarefas\n",
        "def visualizar_tarefas():\n",
        "    if tarefas: #se a tarefa nao estiver vazia, irá printar as tarefas que eu tenho\n",
        "        print(\"\\nSuas tarefas atuais são:\")\n",
        "        for indice, tarefa in enumerate(tarefas, 1):\n",
        "            print(f\"{indice}. {tarefas}\", end='\\n')\n",
        "    else:\n",
        "        print(\"Nenhuma tarefa no momento.\") #caso contrario, se a lista estiver vazio, ele irá informar que não há tarefas na lista."
      ]
    },
    {
      "cell_type": "code",
      "execution_count": null,
      "metadata": {
        "colab": {
          "base_uri": "https://localhost:8080/"
        },
        "id": "MJiWGV_3O2U5",
        "outputId": "1be54b22-06d0-4906-c76d-032f3de40934"
      },
      "outputs": [
        {
          "output_type": "stream",
          "name": "stdout",
          "text": [
            "\n",
            "Suas tarefas atuais são:\n",
            "1. ['trabalho extra', 'academia', 'faculdade']\n",
            "2. ['trabalho extra', 'academia', 'faculdade']\n",
            "3. ['trabalho extra', 'academia', 'faculdade']\n"
          ]
        }
      ],
      "source": [
        "#Visualizando a lista de tarefas\n",
        "visualizar_tarefas()"
      ]
    },
    {
      "cell_type": "code",
      "execution_count": null,
      "metadata": {
        "id": "6c69HTzOLS3u"
      },
      "outputs": [],
      "source": [
        "#Definindo função para remover uma tarefa da lista\n",
        "def remover_tarefa(indice):\n",
        "    if 0 <= indice < len(tarefas): #vai verificar se o indice é menor ou igual a zero, e fazer a contagem\n",
        "        tarefa_removida = tarefas.pop(indice) #usando a função pop\n",
        "        print(f\"Tarefa '{tarefa_removida}' removida com sucesso!\")\n",
        "    else:\n",
        "        print(\"Número de tarefa inválido.\")"
      ]
    },
    {
      "cell_type": "code",
      "execution_count": null,
      "metadata": {
        "colab": {
          "base_uri": "https://localhost:8080/"
        },
        "id": "btOo7jO6M61V",
        "outputId": "a1e8b910-b913-45cc-aa0c-803b2537204c"
      },
      "outputs": [
        {
          "output_type": "stream",
          "name": "stdout",
          "text": [
            "Tarefa 'academia' removida com sucesso!\n",
            "\n",
            "Suas tarefas atuais são:\n",
            "1. ['trabalho extra', 'faculdade']\n",
            "2. ['trabalho extra', 'faculdade']\n"
          ]
        }
      ],
      "source": [
        "# Remove a tarefa academia\n",
        "remover_tarefa(1)\n",
        "visualizar_tarefas()"
      ]
    },
    {
      "cell_type": "code",
      "execution_count": null,
      "metadata": {
        "id": "FOtsBTYecOUJ"
      },
      "outputs": [],
      "source": [
        "# Função para mostrar o menu e executar as ações\n",
        "def mostrar_menu():\n",
        "    while True:\n",
        "        print(\"\\nLista de Tarefas:\")\n",
        "        print(\"1. Adicionar tarefa\")\n",
        "        print(\"2. Visualizar tarefas\")\n",
        "        print(\"3. Remover tarefa\")\n",
        "        print(\"4. Sair\")\n",
        "\n",
        "        opcao = input(\"Escolha uma opção (1-4): \") #usuario irá digitar qual funçao ele quer entre 1 e 4\n",
        "\n",
        "        if opcao == \"1\":\n",
        "            nova_tarefa = input(\"Digite nova tarefa: \")\n",
        "            tarefas.append(nova_tarefa)\n",
        "            print(f\"Nova tarefa '{nova_tarefa}' adicionada com sucesso!\")\n",
        "            continue\n",
        "        elif opcao == \"2\":\n",
        "            visualizar_tarefas()\n",
        "            continue\n",
        "        elif opcao == \"3\":\n",
        "            visualizar_tarefas()\n",
        "            indice = int(input(\"Digite o número da tarefa para remover: \")) - 1 #coloquei -1 pq ele começa em indice zero\n",
        "            remover_tarefa(indice)\n",
        "            continue\n",
        "        elif opcao == \"4\":\n",
        "            print(\"Saindo da Lista de Tarefas...\")\n",
        "            break\n",
        "\n",
        "        else:\n",
        "            print(\"Opção inválida. Tente novamente.\")"
      ]
    },
    {
      "cell_type": "code",
      "execution_count": null,
      "metadata": {
        "colab": {
          "base_uri": "https://localhost:8080/"
        },
        "id": "aJXRXK8gSR4w",
        "outputId": "0904dff2-b4a8-467a-92b8-270fd1bfbf8f"
      },
      "outputs": [
        {
          "output_type": "stream",
          "name": "stdout",
          "text": [
            "\n",
            "Lista de Tarefas:\n",
            "1. Adicionar tarefa\n",
            "2. Visualizar tarefas\n",
            "3. Remover tarefa\n",
            "4. Sair\n",
            "Escolha uma opção (1-4): 1\n",
            "Digite nova tarefa: limpar casa\n",
            "Nova tarefa 'limpar casa' adicionada com sucesso!\n",
            "\n",
            "Lista de Tarefas:\n",
            "1. Adicionar tarefa\n",
            "2. Visualizar tarefas\n",
            "3. Remover tarefa\n",
            "4. Sair\n",
            "Escolha uma opção (1-4): 3\n",
            "\n",
            "Suas tarefas atuais são:\n",
            "1. ['trabalho extra', 'faculdade', 'limpar casa']\n",
            "2. ['trabalho extra', 'faculdade', 'limpar casa']\n",
            "3. ['trabalho extra', 'faculdade', 'limpar casa']\n",
            "Digite o número da tarefa para remover: 2\n",
            "Tarefa 'faculdade' removida com sucesso!\n",
            "\n",
            "Lista de Tarefas:\n",
            "1. Adicionar tarefa\n",
            "2. Visualizar tarefas\n",
            "3. Remover tarefa\n",
            "4. Sair\n",
            "Escolha uma opção (1-4): 2\n",
            "\n",
            "Suas tarefas atuais são:\n",
            "1. ['trabalho extra', 'limpar casa']\n",
            "2. ['trabalho extra', 'limpar casa']\n",
            "\n",
            "Lista de Tarefas:\n",
            "1. Adicionar tarefa\n",
            "2. Visualizar tarefas\n",
            "3. Remover tarefa\n",
            "4. Sair\n",
            "Escolha uma opção (1-4): 4\n",
            "Saindo da Lista de Tarefas...\n"
          ]
        }
      ],
      "source": [
        "#Mostrando o Menu ao usuário, para  gerenciar suas tarefas diárias.\n",
        "mostrar_menu()"
      ]
    },
    {
      "cell_type": "markdown",
      "metadata": {
        "id": "cpVCv8m5QNm9"
      },
      "source": [
        "DESAFIO 5\n",
        "\n",
        "Escreva um programa em Python que funcione como uma calculadora simples. Ele deve pedir ao usuário para inserir dois números e, em seguida, solicitar a operação que deseja realizar (adição, subtração, multiplicação ou divisão)."
      ]
    },
    {
      "cell_type": "code",
      "execution_count": null,
      "metadata": {
        "id": "rGHbvDFVcGzy",
        "colab": {
          "base_uri": "https://localhost:8080/"
        },
        "outputId": "cc36f2c3-ce6d-4f43-e815-b1de6afe3487"
      },
      "outputs": [
        {
          "output_type": "stream",
          "name": "stdout",
          "text": [
            "Digite um numero:10\n",
            "O numero digitado é: 10\n",
            "Digite um numero:2\n",
            "O numero digitado é: 2\n",
            "O resultado da soma é:  12\n",
            "O resultado da multiplicacao é: 20\n",
            "O resultado da potenciacao é: 20\n"
          ]
        }
      ],
      "source": [
        "#usuario digita dois numeros\n",
        "#voce retorna\n",
        "#soma, multiplicação, potenicação\n",
        "\n",
        "numero1 = int(input(\"Digite um numero:\"))\n",
        "print(\"O numero digitado é:\", numero1)\n",
        "\n",
        "numero2 = int(input(\"Digite um numero:\"))\n",
        "print(\"O numero digitado é:\", numero2)\n",
        "\n",
        "soma = numero1 + numero2\n",
        "print(\"O resultado da soma é: \", (soma))\n",
        "\n",
        "multiplicacao = numero1 * numero2\n",
        "print(\"O resultado da multiplicacao é:\", (multiplicacao))\n",
        "\n",
        "potenciacao = numero1 * numero2\n",
        "print(\"O resultado da potenciacao é:\", (potenciacao))"
      ]
    }
  ],
  "metadata": {
    "colab": {
      "provenance": [],
      "include_colab_link": true
    },
    "kernelspec": {
      "display_name": "Python 3",
      "name": "python3"
    },
    "language_info": {
      "name": "python"
    }
  },
  "nbformat": 4,
  "nbformat_minor": 0
}